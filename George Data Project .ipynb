{
 "cells": [
  {
   "cell_type": "code",
   "execution_count": 7,
   "id": "ded9bb10",
   "metadata": {
    "scrolled": true
   },
   "outputs": [],
   "source": [
    "import pandas as pd\n",
    "import matplotlib.pyplot as plt\n",
    "import csv\n",
    "import requests\n",
    "from pathlib import Path\n",
    "import json\n",
    "import os\n",
    "from api_keys import weather_api_key\n",
    "\n",
    "csv_path2021 = \"C:/Users/georg/DataProjects/Clean Data/all_2021_data.csv\"\n",
    "csv_path2022 = \"C:/Users/georg/DataProjects/Clean Data/all_2022_data.csv\"\n",
    "\n",
    "# Read the CSV files for each year\n",
    "df_2021 = pd.read_csv(csv_path2021,low_memory=False)\n",
    "df_2022 = pd.read_csv(csv_path2022,low_memory=False)\n",
    "\n",
    "# Concatenate the dataframes\n",
    "bike_sharing = pd.concat([df_2021, df_2022], ignore_index=True)\n",
    "\n",
    "# Optionally, save the combined data to a new CSV file\n",
    "#bike_sharing.to_csv(\"combined_bike_sharing.csv\", index=False)\n",
    "\n",
    "# Print the first few rows of the combined DataFrame\n",
    "#print(bike_sharing.head())\n",
    "\n",
    "\n"
   ]
  },
  {
   "cell_type": "code",
   "execution_count": 4,
   "id": "bfbcfe9e",
   "metadata": {
    "scrolled": false
   },
   "outputs": [
    {
     "name": "stdout",
     "output_type": "stream",
     "text": [
      "Empty DataFrame\n",
      "Columns: [Date, Temperature, Humidity]\n",
      "Index: []\n"
     ]
    }
   ],
   "source": [
    "\n",
    "import pandas as pd\n",
    "import requests\n",
    "from pathlib import Path\n",
    "import json\n",
    "import os\n",
    "from api_keys import weather_api_key\n",
    "# Function to fetch weather data for a given date\n",
    "def get_weather_data(date):\n",
    "    lat = 38.9072  # Latitude of Washington, D.C.\n",
    "    lon = -77.0369  # Longitude of Washington, D.C.\n",
    "    url = f\"https://api.openweathermap.org/data/2.5/onecall/timemachine?lat={lat}&lon={lon}&dt={date}&appid=\"+ weather_api_key\n",
    "    response = requests.get(url)\n",
    "    if response.status_code == 200:\n",
    "        return response.json()\n",
    "    else:\n",
    "        return None\n",
    "\n",
    "# Create an empty DataFrame to store the weather data\n",
    "weather_df = pd.DataFrame(columns=[\"Date\", \"Temperature\", \"Humidity\"])\n",
    "\n",
    "# Loop over each day of the year 2021\n",
    "start_date = pd.to_datetime(\"2021-01-01\")\n",
    "end_date = pd.to_datetime(\"2022-12-31\")\n",
    "for date in pd.date_range(start_date, end_date):\n",
    "    weather_data = get_weather_data(int(date.timestamp()))\n",
    "    if weather_data:\n",
    "        # Get the weather data for the desired location (DC)\n",
    "        dc_weather_data = weather_data[\"hourly\"][0]\n",
    "        \n",
    "        weather_df = weather_df.append({\n",
    "            \"Date\": date,\n",
    "            \"Temperature\": dc_weather_data[\"temp\"],\n",
    "            \"Humidity\": dc_weather_data[\"humidity\"]\n",
    "        }, ignore_index=True)\n",
    "\n",
    "# Display the weather DataFrame\n",
    "print(weather_df)\n"
   ]
  },
  {
   "cell_type": "code",
   "execution_count": 6,
   "id": "db5ba4ce",
   "metadata": {},
   "outputs": [
    {
     "name": "stdout",
     "output_type": "stream",
     "text": [
      "Empty DataFrame\n",
      "Columns: []\n",
      "Index: []\n"
     ]
    }
   ],
   "source": [
    "\n",
    "# Get the weather data for the DC area for 2021 \n",
    "\n",
    "# Specify your API key and the base URL for the OpenWeatherMap API\n",
    "base_url = \"http://api.openweathermap.org/data/2.5/weather?&appid=\"+ weather_api_key\n",
    "\n",
    "# Define the latitude and longitude for the DC area\n",
    "latitude = 38.9072\n",
    "longitude = -77.0369\n",
    "\n",
    "# Create an empty list to store the weather data\n",
    "weather_data = []\n",
    "\n",
    "# Specify the start and end dates for the data retrieval\n",
    "start_date = pd.Timestamp(\"2021-01-01\")\n",
    "end_date = pd.Timestamp(\"2022-12-31\")\n",
    "\n",
    "# Loop through each day in the date range\n",
    "current_date = start_date\n",
    "while current_date <= end_date:\n",
    "    # Convert the current date to UNIX timestamp\n",
    "    timestamp = int(current_date.timestamp())\n",
    "    \n",
    "    # Construct the API request URL with the required parameters\n",
    "    url = f\"{base_url}?lat={latitude}&lon={longitude}&dt={timestamp}&appid={weather_api_key}\"\n",
    "    \n",
    "    # Send the API request and retrieve the weather data\n",
    "    response = requests.get(url)\n",
    "    if response.status_code == 200:\n",
    "        # Parse the JSON response and extract the relevant weather data fields\n",
    "        data = response.json()\n",
    "        temperature = data[\"main\"][\"temp\"]\n",
    "        precipitation = data.get(\"rain\", {}).get(\"1h\", 0)\n",
    "        wind_speed = data[\"wind\"][\"speed\"]\n",
    "        \n",
    "        # Append the weather data to the list\n",
    "        weather_data.append({\n",
    "            \"Date\": current_date,\n",
    "            \"Temperature\": temperature,\n",
    "            \"Precipitation\": precipitation,\n",
    "            \"Wind Speed\": wind_speed\n",
    "        })\n",
    "    \n",
    "    # Move to the next day\n",
    "    current_date += pd.Timedelta(days=1)\n",
    "\n",
    "# Create a DataFrame from the weather data\n",
    "weather_df = pd.DataFrame(weather_data)\n",
    "\n",
    "# Save the weather data to a CSV file\n",
    "weather_df.to_csv(\"weather_data.csv\", index=False)\n",
    "print(weather_df)"
   ]
  },
  {
   "cell_type": "code",
   "execution_count": null,
   "id": "292dfd4b",
   "metadata": {
    "scrolled": true
   },
   "outputs": [],
   "source": [
    "# Create a DataFrame from the weather data\n",
    "\n",
    "# Load the Bike Share data from the CSV file\n",
    "all_2021_df = pd.read_csv(csv_path,low_memory=False)\n",
    "\n",
    "scalar_values = all_clean_2021 ['Duration'] / 60\n",
    "\n",
    "\n",
    "# Create a DataFrame from the weather data\n",
    "weather_df = pd.DataFrame(weather_data)\n",
    "\n",
    "# Create a DataFrame from the scalar_values with a custom index\n",
    "Bike_Share = pd.DataFrame(scalar_values, index=[\"1\", \"2\", \"3\", \"4\"])\n",
    "\n",
    "# Reset the index of the Bike_Share DataFrame\n",
    "Bike_Share = Bike_Share.reset_index(drop=True)\n",
    "\n",
    "# Display the first 10 rows of the Bike_Share DataFrame\n",
    "Bike_Share.head(10)\n"
   ]
  },
  {
   "cell_type": "code",
   "execution_count": null,
   "id": "3835f72a",
   "metadata": {},
   "outputs": [],
   "source": []
  },
  {
   "cell_type": "code",
   "execution_count": null,
   "id": "3f950b3e",
   "metadata": {},
   "outputs": [],
   "source": []
  },
  {
   "cell_type": "code",
   "execution_count": null,
   "id": "a0a73821",
   "metadata": {},
   "outputs": [],
   "source": []
  },
  {
   "cell_type": "code",
   "execution_count": null,
   "id": "d642edde",
   "metadata": {},
   "outputs": [],
   "source": []
  }
 ],
 "metadata": {
  "kernelspec": {
   "display_name": "Python 3 (ipykernel)",
   "language": "python",
   "name": "python3"
  },
  "language_info": {
   "codemirror_mode": {
    "name": "ipython",
    "version": 3
   },
   "file_extension": ".py",
   "mimetype": "text/x-python",
   "name": "python",
   "nbconvert_exporter": "python",
   "pygments_lexer": "ipython3",
   "version": "3.10.11"
  }
 },
 "nbformat": 4,
 "nbformat_minor": 5
}
