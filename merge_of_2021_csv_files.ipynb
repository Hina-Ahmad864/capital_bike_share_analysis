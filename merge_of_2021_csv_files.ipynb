{
 "cells": [
  {
   "cell_type": "code",
   "execution_count": 3,
   "metadata": {},
   "outputs": [],
   "source": [
    " # path = \"/Users/hinaahmad/ClassRepository__2023/project_1_repo/capital_bike_share_analysis/year_2021_raw_csv/\""
   ]
  },
  {
   "cell_type": "code",
   "execution_count": 7,
   "metadata": {},
   "outputs": [],
   "source": [
    "import pandas as pd\n",
    "import glob\n",
    "\n",
    "# Specify the path to the directory containing the CSV files\n",
    "directory_path = \"/Users/hinaahmad/ClassRepository__2023/project_1_repo/capital_bike_share_analysis/year_2021_raw_csv/\"\n",
    "\n",
    "# Get a list of all CSV files in the directory\n",
    "csv_files = glob.glob(directory_path + \"*.csv\")\n",
    "\n",
    "# Create an empty list to store the dataframes\n",
    "dataframes = []\n",
    "\n",
    "# Read and append each CSV file to the list of dataframes\n",
    "for file in csv_files:\n",
    "    df = pd.read_csv(file)\n",
    "    dataframes.append(df)\n",
    "\n",
    "# Concatenate the dataframes into a single dataframe\n",
    "all_2021_merged = pd.concat(dataframes)\n",
    "\n",
    "# Save the merged dataframe to a new CSV file\n",
    "# File saved and sent to group through slack - too large to load onto github repo\n",
    "# output_file_path = \"/Users/hinaahmad/ClassRepository__2023/project_1_repo/capital_bike_share_analysis/2021_unclean_data/all_2021_df.csv\"\n",
    "# all_2021_merged.to_csv(output_file_path, index=False, encoding=\"utf-8\")"
   ]
  },
  {
   "cell_type": "code",
   "execution_count": null,
   "metadata": {},
   "outputs": [],
   "source": []
  }
 ],
 "metadata": {
  "kernelspec": {
   "display_name": "Python 3",
   "language": "python",
   "name": "python3"
  },
  "language_info": {
   "codemirror_mode": {
    "name": "ipython",
    "version": 3
   },
   "file_extension": ".py",
   "mimetype": "text/x-python",
   "name": "python",
   "nbconvert_exporter": "python",
   "pygments_lexer": "ipython3",
   "version": "3.7.6"
  }
 },
 "nbformat": 4,
 "nbformat_minor": 4
}
